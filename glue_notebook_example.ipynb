{
 "cells": [
  {
   "cell_type": "code",
   "execution_count": null,
   "id": "bff99893-4fe8-4b9b-af4c-1cc439e0b00f",
   "metadata": {},
   "outputs": [],
   "source": [
    "%glue_version 4.0\n",
    "%session_type etl\n",
    "%worker_type G.2X\n",
    "%number_of_workers 4\n",
    "%idle_timeout 480\n",
    "%session_id_prefix team-name"
   ]
  },
  {
   "cell_type": "code",
   "execution_count": null,
   "id": "47034fa4",
   "metadata": {},
   "outputs": [],
   "source": [
    "%extra_jars 's3://client-project-subcategory-scripts-non-prod/jars/spark-excel_2.12-3.3.1_0.18.5.jar'"
   ]
  },
  {
   "cell_type": "code",
   "execution_count": null,
   "id": "3e69811f",
   "metadata": {},
   "outputs": [],
   "source": [
    "%%configure\n",
    "{\n",
    "    '--datalake-formats': 'delta',\n",
    "    '--conf': 'spark.sql.extensions=io.delta.sql.DeltaSparkSessionExtension --conf spark.sql.catalog.spark_catalog=org.apache.spark.sql.delta.catalog.DeltaCatalog',\n",
    "    '--user-jars-first': 'true'\n",
    "}"
   ]
  },
  {
   "cell_type": "code",
   "execution_count": null,
   "id": "b54231b7",
   "metadata": {},
   "outputs": [],
   "source": [
    "import sys\n",
    "from awsglue.transforms import *\n",
    "from awsglue.utils import getResolvedOptions\n",
    "from pyspark.context import SparkContext\n",
    "from awsglue.context import GlueContext\n",
    "from awsglue.job import Job\n",
    "from pyspark.sql.functions import udf\n",
    "from pyspark.sql import functions as F\n",
    "from pyspark.sql import types as T\n",
    "\n",
    "import boto3\n",
    "\n",
    "import json\n",
    "import requests\n",
    "from datetime import datetime as dt\n",
    "\n",
    "import time\n",
    "from botocore.exceptions import ClientError\n",
    "\n",
    "# SPARK CONFIG\n",
    "\n",
    "sc = SparkContext.getOrCreate()\n",
    "glueContext = GlueContext(sc)\n",
    "spark = glueContext.spark_session\n",
    "job = Job(glueContext)"
   ]
  },
  {
   "cell_type": "code",
   "execution_count": null,
   "id": "5bd8a690",
   "metadata": {},
   "outputs": [],
   "source": [
    "#codes"
   ]
  },
  {
   "cell_type": "code",
   "execution_count": null,
   "id": "6c0aaaf4",
   "metadata": {},
   "outputs": [],
   "source": [
    "job.commit()"
   ]
  }
 ],
 "metadata": {
  "kernelspec": {
   "display_name": "Python 3 (ipykernel)",
   "language": "python",
   "name": "python3"
  },
  "language_info": {
   "codemirror_mode": {
    "name": "ipython",
    "version": 3
   },
   "file_extension": ".py",
   "mimetype": "text/x-python",
   "name": "python",
   "nbconvert_exporter": "python",
   "pygments_lexer": "ipython3",
   "version": "3.10.2"
  }
 },
 "nbformat": 4,
 "nbformat_minor": 5
}
